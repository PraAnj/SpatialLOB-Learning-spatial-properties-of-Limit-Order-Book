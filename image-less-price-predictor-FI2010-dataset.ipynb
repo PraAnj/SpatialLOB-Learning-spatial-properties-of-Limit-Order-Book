{
 "cells": [
  {
   "cell_type": "markdown",
   "metadata": {},
   "source": [
    "**Imports and Workspace settings**"
   ]
  },
  {
   "cell_type": "code",
   "execution_count": 1,
   "metadata": {},
   "outputs": [
    {
     "name": "stderr",
     "output_type": "stream",
     "text": [
      "Using TensorFlow backend.\n"
     ]
    }
   ],
   "source": [
    "import pandas as pd\n",
    "import numpy as np\n",
    "import boto3\n",
    "import io\n",
    "import os\n",
    "import json\n",
    "import random\n",
    "import PIL.Image as Image\n",
    "import datetime\n",
    "import plotly.express as px\n",
    "from matplotlib import pyplot as plt\n",
    "import plotly.graph_objects as go\n",
    "from plotly.subplots import make_subplots\n",
    "from utility.my_metrics import recall, precision, f1_score, MulticlassTruePositives\n",
    "from utility.PerformanceVisualizationCallback import PerformanceVisualizationCallback\n",
    "from utility.augmented_conv2d import augmented_conv2d\n",
    "\n",
    "from s3fs.core import S3FileSystem\n",
    "s3 = S3FileSystem()\n",
    "\n",
    "import keras\n",
    "import tensorflow as tf\n",
    "# import tensorflow_addons as tfa\n",
    "from tensorflow.keras import Sequential, layers, optimizers\n",
    "from tensorflow.keras.models import Model\n",
    "from tensorflow.keras.constraints import max_norm\n",
    "from tensorflow.keras.layers import Dense, Dropout, Activation, Flatten, BatchNormalization, LayerNormalization, GlobalAveragePooling2D, multiply, Conv2D, Conv1D, MaxPooling2D, Reshape, TimeDistributed, Input, LSTM, GRU, concatenate\n",
    "from tensorflow.keras.preprocessing.sequence import TimeseriesGenerator\n",
    "from keras.utils import np_utils, plot_model\n",
    "\n",
    "from sklearn.utils import compute_class_weight\n",
    "from sklearn.metrics import confusion_matrix, f1_score, precision_score, recall_score"
   ]
  },
  {
   "cell_type": "code",
   "execution_count": 2,
   "metadata": {},
   "outputs": [
    {
     "data": {
      "text/plain": [
       "'2.1.3'"
      ]
     },
     "execution_count": 2,
     "metadata": {},
     "output_type": "execute_result"
    }
   ],
   "source": [
    "tf.version.VERSION"
   ]
  },
  {
   "cell_type": "markdown",
   "metadata": {},
   "source": [
    "**Deterministic randomness**"
   ]
  },
  {
   "cell_type": "code",
   "execution_count": 3,
   "metadata": {},
   "outputs": [],
   "source": [
    "SEED = 0\n",
    "\n",
    "def set_seeds(seed=SEED):\n",
    "    os.environ['PYTHONHASHSEED'] = str(seed)\n",
    "    random.seed(seed)\n",
    "    tf.random.set_seed(seed)\n",
    "    np.random.seed(seed)\n",
    "    \n",
    "def set_global_determinism(seed=SEED):\n",
    "    set_seeds(seed=seed)\n",
    "\n",
    "    os.environ['TF_DETERMINISTIC_OPS'] = '1'\n",
    "    os.environ['TF_CUDNN_DETERMINISTIC'] = '1'\n",
    "    \n",
    "    tf.config.threading.set_inter_op_parallelism_threads(1)\n",
    "    tf.config.threading.set_intra_op_parallelism_threads(1)\n",
    "\n",
    "# Call the above function with seed value\n",
    "set_global_determinism(seed=SEED)"
   ]
  },
  {
   "cell_type": "code",
   "execution_count": 4,
   "metadata": {},
   "outputs": [],
   "source": [
    "os.environ['TF_CPP_MIN_LOG_LEVEL'] = '3'"
   ]
  },
  {
   "cell_type": "code",
   "execution_count": 5,
   "metadata": {},
   "outputs": [
    {
     "name": "stdout",
     "output_type": "stream",
     "text": [
      "Number of GPUs: 1\n",
      "Enabled Memory Growth on /physical_device:GPU:0\n",
      "\n",
      "\n"
     ]
    }
   ],
   "source": [
    "# limit gpu usage for keras in tf 2.X\n",
    "def set_gpu_memory_growth():\n",
    "    gpus = tf.config.list_physical_devices('GPU')\n",
    "    if gpus:\n",
    "        print(f\"Number of GPUs: {len(gpus)}\")\n",
    "        try:\n",
    "            for gpu in gpus:\n",
    "                tf.config.experimental.set_memory_growth(gpu, True)\n",
    "                tf.config.experimental.set_virtual_device_configuration(gpu,[tf.config.experimental.VirtualDeviceConfiguration(memory_limit=12288)])\n",
    "                print(f\"Enabled Memory Growth on {gpu.name}\\n\")\n",
    "                print()\n",
    "        except RuntimeError as e:\n",
    "            print(e)\n",
    "\n",
    "set_gpu_memory_growth()"
   ]
  },
  {
   "cell_type": "markdown",
   "metadata": {},
   "source": [
    "**Configurations**"
   ]
  },
  {
   "cell_type": "code",
   "execution_count": 6,
   "metadata": {},
   "outputs": [],
   "source": [
    "# 40 for all\n",
    "# 20 only for prices/volumes\n",
    "# 2 for bid ask only\n",
    "FEATURES = 20\n",
    "batch_size = 32\n",
    "CHANNELS = 1\n",
    "window_size = 100 # 64 or 32 length LSTM"
   ]
  },
  {
   "cell_type": "markdown",
   "metadata": {},
   "source": [
    "**Define util functions**"
   ]
  },
  {
   "cell_type": "code",
   "execution_count": 7,
   "metadata": {},
   "outputs": [],
   "source": [
    "price_indices = np.concatenate([np.array(range(2,40,4))[::-1], np.array(range(0,40,4))])\n",
    "volume_indices = np.concatenate([np.array(range(3,40,4))[::-1], np.array(range(1,40,4))])\n",
    "spatial_ordering = np.dstack((price_indices, volume_indices)).flatten()\n",
    "bid_ask_indices = [2, 0]\n",
    "\n",
    "def prepare_x(data):\n",
    "    df1 = data[:40, :].T\n",
    "    return np.array(df1[:, volume_indices])\n",
    "\n",
    "def get_label(data):\n",
    "    lob = data[-5:, :].T\n",
    "    return lob\n",
    "\n",
    "def data_classification(X, Y, T):\n",
    "    [N, D] = X.shape\n",
    "    df = np.array(X)\n",
    "\n",
    "    dY = np.array(Y)\n",
    "\n",
    "    dataY = dY[T - 1:N]\n",
    "\n",
    "    dataX = np.zeros((N - T + 1, T, D))\n",
    "    for i in range(T, N + 1):\n",
    "        dataX[i - T] = df[i - T:i, :]\n",
    "\n",
    "    return dataX.reshape(dataX.shape + (1,)), dataY\n",
    "#     return dataX, dataY"
   ]
  },
  {
   "cell_type": "code",
   "execution_count": 8,
   "metadata": {},
   "outputs": [
    {
     "data": {
      "text/plain": [
       "array([38, 34, 30, 26, 22, 18, 14, 10,  6,  2,  0,  4,  8, 12, 16, 20, 24,\n",
       "       28, 32, 36])"
      ]
     },
     "execution_count": 8,
     "metadata": {},
     "output_type": "execute_result"
    }
   ],
   "source": [
    "price_indices"
   ]
  },
  {
   "cell_type": "code",
   "execution_count": 9,
   "metadata": {},
   "outputs": [
    {
     "data": {
      "text/plain": [
       "array([39, 35, 31, 27, 23, 19, 15, 11,  7,  3,  1,  5,  9, 13, 17, 21, 25,\n",
       "       29, 33, 37])"
      ]
     },
     "execution_count": 9,
     "metadata": {},
     "output_type": "execute_result"
    }
   ],
   "source": [
    "volume_indices"
   ]
  },
  {
   "cell_type": "code",
   "execution_count": 10,
   "metadata": {},
   "outputs": [
    {
     "data": {
      "text/plain": [
       "array([38, 39, 34, 35, 30, 31, 26, 27, 22, 23, 18, 19, 14, 15, 10, 11,  6,\n",
       "        7,  2,  3,  0,  1,  4,  5,  8,  9, 12, 13, 16, 17, 20, 21, 24, 25,\n",
       "       28, 29, 32, 33, 36, 37])"
      ]
     },
     "execution_count": 10,
     "metadata": {},
     "output_type": "execute_result"
    }
   ],
   "source": [
    "spatial_ordering"
   ]
  },
  {
   "cell_type": "code",
   "execution_count": 11,
   "metadata": {},
   "outputs": [],
   "source": [
    "# please change the data_path to your local path\n",
    "data_path = '../FI-2010-lob-dataset/NoAuction/3.NoAuction_DecPre/'\n",
    "\n",
    "dec_train = np.loadtxt(data_path + 'NoAuction_DecPre_Training/Train_Dst_NoAuction_DecPre_CF_7.txt')\n",
    "dec_test1 = np.loadtxt(data_path + 'NoAuction_DecPre_Testing/Test_Dst_NoAuction_DecPre_CF_7.txt')\n",
    "dec_test2 = np.loadtxt(data_path + 'NoAuction_DecPre_Testing/Test_Dst_NoAuction_DecPre_CF_8.txt')\n",
    "dec_test3 = np.loadtxt(data_path + 'NoAuction_DecPre_Testing/Test_Dst_NoAuction_DecPre_CF_9.txt')\n",
    "dec_test = np.hstack((dec_test1, dec_test2, dec_test3))"
   ]
  },
  {
   "cell_type": "code",
   "execution_count": 141,
   "metadata": {},
   "outputs": [],
   "source": [
    "# extract limit order book data from the FI-2010 dataset\n",
    "train_lob = prepare_x(dec_train)\n",
    "test_lob = prepare_x(dec_test)\n",
    "\n",
    "# extract label from the FI-2010 dataset\n",
    "train_label = get_label(dec_train)\n",
    "test_label = get_label(dec_test)\n",
    "\n",
    "# prepare training data. We feed past 100 observations into our algorithms and choose the prediction horizon. \n",
    "trainX_CNN, trainY_CNN = data_classification(train_lob, train_label, T=100)\n",
    "trainY_CNN = trainY_CNN[:,1] - 1 # DeepLOB notation -> 0=10k, 1=20k, 2=30k, 3=50k, 4=100k\n",
    "trainY_CNN = np_utils.to_categorical(trainY_CNN, 3)\n",
    "\n",
    "# prepare test data.\n",
    "testX_CNN, testY_CNN = data_classification(test_lob, test_label, T=100)\n",
    "testY_CNN = testY_CNN[:,1] - 1\n",
    "testY_CNN = np_utils.to_categorical(testY_CNN, 3)"
   ]
  },
  {
   "cell_type": "code",
   "execution_count": 142,
   "metadata": {},
   "outputs": [
    {
     "data": {
      "text/plain": [
       "(149, 254750)"
      ]
     },
     "execution_count": 142,
     "metadata": {},
     "output_type": "execute_result"
    }
   ],
   "source": [
    "dec_train.shape"
   ]
  },
  {
   "cell_type": "code",
   "execution_count": 143,
   "metadata": {},
   "outputs": [
    {
     "data": {
      "text/plain": [
       "(254750, 20)"
      ]
     },
     "execution_count": 143,
     "metadata": {},
     "output_type": "execute_result"
    }
   ],
   "source": [
    "train_lob.shape"
   ]
  },
  {
   "cell_type": "code",
   "execution_count": 144,
   "metadata": {
    "scrolled": true
   },
   "outputs": [
    {
     "data": {
      "text/plain": [
       "(5, 139587)"
      ]
     },
     "execution_count": 144,
     "metadata": {},
     "output_type": "execute_result"
    }
   ],
   "source": [
    "test_label.T.shape"
   ]
  },
  {
   "cell_type": "markdown",
   "metadata": {},
   "source": [
    "**calculate class weights of one hot encoded data**"
   ]
  },
  {
   "cell_type": "code",
   "execution_count": 145,
   "metadata": {},
   "outputs": [
    {
     "name": "stdout",
     "output_type": "stream",
     "text": [
      "Class weights ={\"0\": 1.314904603309839, \"1\": 0.6745042883100509, \"2\": 1.3211465629053178}\n"
     ]
    },
    {
     "name": "stderr",
     "output_type": "stream",
     "text": [
      "/home/ec2-user/anaconda3/envs/tensorflow2_p36/lib/python3.6/site-packages/sklearn/utils/validation.py:72: FutureWarning:\n",
      "\n",
      "Pass classes=[0 1 2], y=[0 0 1 ... 1 0 0] as keyword args. From version 1.0 (renaming of 0.25) passing these as positional arguments will result in an error\n",
      "\n"
     ]
    }
   ],
   "source": [
    "y_integers = np.argmax(trainY_CNN, axis=1)\n",
    "classWeight = compute_class_weight('balanced', np.unique(y_integers), y_integers)\n",
    "classWeight = dict(enumerate(classWeight))\n",
    "print ('Class weights =' + str(json.dumps(classWeight)))"
   ]
  },
  {
   "cell_type": "markdown",
   "metadata": {},
   "source": [
    "**Understand label distribution on training and test sets**"
   ]
  },
  {
   "cell_type": "code",
   "execution_count": 146,
   "metadata": {},
   "outputs": [],
   "source": [
    "# fig = make_subplots(rows=1, cols=2, subplot_titles=(\"Training\", \"Testing\"))\n",
    "\n",
    "# fig.add_trace(\n",
    "#     go.Histogram(x=tr_labels[:train_len].tolist(), histnorm='percent', marker_color='indianred'),\n",
    "#     row=1, col=1\n",
    "# )\n",
    "# fig.add_trace(\n",
    "#     go.Histogram(x=ts_labels[:test_len].tolist(), histnorm='percent', marker_color='indianred'),\n",
    "#     row=1, col=2\n",
    "# )\n",
    "# fig.update_layout(\n",
    "#     title=\"Movement label distribution\",\n",
    "#     width=600,\n",
    "#     height=400,\n",
    "#     showlegend=False,\n",
    "#     bargap=0.1,\n",
    "# )\n",
    "# fig.show()"
   ]
  },
  {
   "cell_type": "markdown",
   "metadata": {},
   "source": [
    "**Self attention block for LSTM layer output**"
   ]
  },
  {
   "cell_type": "code",
   "execution_count": 147,
   "metadata": {},
   "outputs": [],
   "source": [
    "# https://www.analyticsvidhya.com/blog/2019/11/comprehensive-guide-attention-mechanism-deep-learning/\n",
    "from tensorflow.keras.layers import Layer\n",
    "import tensorflow.keras.backend as K\n",
    "\n",
    "class attention(Layer):\n",
    "    def __init__(self,**kwargs):\n",
    "        super(attention,self).__init__(**kwargs)\n",
    "\n",
    "    def build(self,input_shape):\n",
    "        self.W=self.add_weight(name=\"att_weight\",shape=(input_shape[-1],1),initializer=\"normal\")\n",
    "        self.b=self.add_weight(name=\"att_bias\",shape=(input_shape[1],1),initializer=\"zeros\")        \n",
    "        super(attention, self).build(input_shape)\n",
    "\n",
    "    def call(self,x):\n",
    "        et=K.squeeze(K.tanh(K.dot(x,self.W)+self.b),axis=-1)\n",
    "        at=K.softmax(et)\n",
    "        at=K.expand_dims(at,axis=-1)\n",
    "        output=x*at\n",
    "        return K.sum(output,axis=1)\n",
    "\n",
    "    def compute_output_shape(self,input_shape):\n",
    "        return (input_shape[0],input_shape[-1])\n",
    "\n",
    "    def get_config(self):\n",
    "        return super(attention,self).get_config()"
   ]
  },
  {
   "cell_type": "markdown",
   "metadata": {},
   "source": [
    "**Squeeze and Excite block for any CNN layers**"
   ]
  },
  {
   "cell_type": "code",
   "execution_count": 148,
   "metadata": {},
   "outputs": [],
   "source": [
    "# For 2D channels\n",
    "def SqueezeExcite2D(in_block, ch=32, ratio=4):\n",
    "    x = GlobalAveragePooling2D()(in_block)\n",
    "    x = Dense(ch//ratio, activation='relu', kernel_initializer='he_normal', use_bias=False)(x) # use_bias=False\n",
    "    x = Dense(ch, activation='sigmoid', kernel_initializer='he_normal', use_bias=False)(x)\n",
    "    return multiply([in_block, x])\n",
    "\n",
    "def ConvBlock(_input):  # cleaner code\n",
    "    x   = Conv1D(filters=10, kernel_size=3, padding='causal', use_bias=False,\n",
    "                 kernel_initializer='lecun_normal')(_input)\n",
    "    x   = BatchNormalization(scale=False)(x)\n",
    "    x   = Activation('selu')(x)\n",
    "    x   = AlphaDropout(0.1)(x)\n",
    "    out = SqueezeExcite(x)    \n",
    "    return out\n",
    "\n",
    "# Only for 1D\n",
    "def SqueezeExcite1D(_input, r=4):  # r == \"reduction factor\"; see paper\n",
    "    filters = K.int_shape(_input)[-1]\n",
    "    se = GlobalAveragePooling1D()(_input)\n",
    "    se = Reshape((1, filters))(se)\n",
    "    se = Dense(filters//r, activation='relu', use_bias=False, kernel_initializer='he_normal')(se)\n",
    "    se = Dense(filters, activation='sigmoid', use_bias=False, kernel_initializer='he_normal')(se)\n",
    "    return multiply([_input, se])\n",
    "\n",
    "def inceptionModule(input_layer):\n",
    "    convsecond_1 = Conv2D(64, (1, 1), padding='same')(input_layer)\n",
    "    convsecond_1 = tf.keras.layers.LeakyReLU(alpha=0.01)(convsecond_1)\n",
    "    convsecond_1 = Conv2D(64, (3, 1), padding='same')(convsecond_1)\n",
    "    convsecond_1 = tf.keras.layers.LeakyReLU(alpha=0.01)(convsecond_1)\n",
    "\n",
    "    convsecond_2 = Conv2D(64, (1, 1), padding='same')(input_layer)\n",
    "    convsecond_2 = tf.keras.layers.LeakyReLU(alpha=0.01)(convsecond_2)\n",
    "    convsecond_2 = Conv2D(64, (5, 1), padding='same')(convsecond_2)\n",
    "    convsecond_2 = tf.keras.layers.LeakyReLU(alpha=0.01)(convsecond_2)\n",
    "\n",
    "    convsecond_3 = MaxPooling2D((3, 1), strides=(1, 1), padding='same')(input_layer)\n",
    "    convsecond_3 = Conv2D(64, (1, 1), padding='same')(convsecond_3)\n",
    "    convsecond_3 = tf.keras.layers.LeakyReLU(alpha=0.01)(convsecond_3)\n",
    "    \n",
    "    convsecond_output = tf.keras.layers.concatenate([convsecond_1, convsecond_2, convsecond_3], axis=3)\n",
    "    conv_reshape = Reshape((int(convsecond_output.shape[1]), int(convsecond_output.shape[3])))(convsecond_output)\n",
    "    return conv_reshape\n",
    "\n",
    "# https://stackoverflow.com/questions/64792460/how-to-code-a-residual-block-using-two-layers-of-a-basic-cnn-algorithm-built-wit\n",
    "# def resblock(x, kernelsize, filters):\n",
    "#     fx1 = layers.Conv2D(filters, kernelsize, activation='relu', kernel_initializer='he_normal', padding='same', kernel_constraint=max_norm(3), bias_constraint=max_norm(3))(x)\n",
    "#     fx1 = layers.BatchNormalization()(fx1)\n",
    "#     fx2 = layers.Conv2D(filters, kernelsize, kernel_initializer='he_normal', padding='same', kernel_constraint=max_norm(3), bias_constraint=max_norm(3))(fx1)\n",
    "#     out = layers.Add()([x,fx2])\n",
    "#     out = layers.ReLU()(out)\n",
    "#     out = layers.BatchNormalization()(out)\n",
    "#     return out\n",
    "\n",
    "def resblock(x, kernelsize, filters):\n",
    "    fx1 = layers.Conv2D(filters, kernelsize, kernel_initializer='he_normal', padding='same', kernel_constraint=max_norm(3), bias_constraint=max_norm(3))(x)\n",
    "    fx1 = layers.Add()([x,fx1])\n",
    "    fx1 = layers.ReLU()(fx1)\n",
    "    fx1 = layers.BatchNormalization()(fx1)\n",
    "    \n",
    "    fx2 = layers.Conv2D(filters, kernelsize, kernel_initializer='he_normal', padding='same', kernel_constraint=max_norm(3), bias_constraint=max_norm(3))(fx1)\n",
    "    out = layers.Add()([x,fx2])\n",
    "    out = layers.ReLU()(out)\n",
    "    out = layers.BatchNormalization()(out)\n",
    "    return out\n",
    "\n",
    "def make_residual_lstm_layers(input_layer, rnn_width, rnn_depth):\n",
    "    \"\"\"\n",
    "    The intermediate LSTM layers return sequences, while the last returns a single element.\n",
    "    The input is also a sequence. In order to match the shape of input and output of the LSTM\n",
    "    to sum them we can do it only for all layers but the last.\n",
    "    \"\"\"\n",
    "    x = input_layer\n",
    "    for i in range(rnn_depth):\n",
    "        return_sequences = i < rnn_depth - 1\n",
    "        x_rnn = GRU(rnn_width, dropout=0.2, return_sequences=return_sequences, kernel_constraint=max_norm(3), recurrent_constraint=max_norm(3), bias_constraint=max_norm(3))(x)\n",
    "        if return_sequences:\n",
    "            # Intermediate layers return sequences, input is also a sequence.\n",
    "            if i > 0 or input_layer.shape[-1] == rnn_width:\n",
    "                x = layers.add([x, x_rnn])\n",
    "            else:\n",
    "                # Note that the input size and RNN output has to match, due to the sum operation.\n",
    "                # If we want different rnn_width, we'd have to perform the sum from layer 2 on.\n",
    "                x = x_rnn\n",
    "        else:\n",
    "            # Last layer does not return sequences, just the last element\n",
    "            # so we select only the last element of the previous output.\n",
    "            def slice_last(x):\n",
    "                return x[..., -1, :]\n",
    "            x = layers.add([layers.Lambda(slice_last)(x), x_rnn])\n",
    "    return x"
   ]
  },
  {
   "cell_type": "markdown",
   "metadata": {},
   "source": [
    "**Define models**"
   ]
  },
  {
   "cell_type": "code",
   "execution_count": 152,
   "metadata": {
    "scrolled": false
   },
   "outputs": [
    {
     "name": "stdout",
     "output_type": "stream",
     "text": [
      "Model: \"model_8\"\n",
      "__________________________________________________________________________________________________\n",
      "Layer (type)                    Output Shape         Param #     Connected to                     \n",
      "==================================================================================================\n",
      "input_9 (InputLayer)            [(None, 100, 20, 1)] 0                                            \n",
      "__________________________________________________________________________________________________\n",
      "conv2d_72 (Conv2D)              (None, 100, 20, 32)  96          input_9[0][0]                    \n",
      "__________________________________________________________________________________________________\n",
      "global_average_pooling2d_24 (Gl (None, 32)           0           conv2d_72[0][0]                  \n",
      "__________________________________________________________________________________________________\n",
      "dense_56 (Dense)                (None, 8)            256         global_average_pooling2d_24[0][0]\n",
      "__________________________________________________________________________________________________\n",
      "dense_57 (Dense)                (None, 32)           256         dense_56[0][0]                   \n",
      "__________________________________________________________________________________________________\n",
      "multiply_24 (Multiply)          (None, 100, 20, 32)  0           conv2d_72[0][0]                  \n",
      "                                                                 dense_57[0][0]                   \n",
      "__________________________________________________________________________________________________\n",
      "conv2d_73 (Conv2D)              (None, 100, 20, 32)  2080        multiply_24[0][0]                \n",
      "__________________________________________________________________________________________________\n",
      "add_64 (Add)                    (None, 100, 20, 32)  0           multiply_24[0][0]                \n",
      "                                                                 conv2d_73[0][0]                  \n",
      "__________________________________________________________________________________________________\n",
      "re_lu_48 (ReLU)                 (None, 100, 20, 32)  0           add_64[0][0]                     \n",
      "__________________________________________________________________________________________________\n",
      "batch_normalization_56 (BatchNo (None, 100, 20, 32)  128         re_lu_48[0][0]                   \n",
      "__________________________________________________________________________________________________\n",
      "conv2d_74 (Conv2D)              (None, 100, 20, 32)  2080        batch_normalization_56[0][0]     \n",
      "__________________________________________________________________________________________________\n",
      "add_65 (Add)                    (None, 100, 20, 32)  0           multiply_24[0][0]                \n",
      "                                                                 conv2d_74[0][0]                  \n",
      "__________________________________________________________________________________________________\n",
      "re_lu_49 (ReLU)                 (None, 100, 20, 32)  0           add_65[0][0]                     \n",
      "__________________________________________________________________________________________________\n",
      "batch_normalization_57 (BatchNo (None, 100, 20, 32)  128         re_lu_49[0][0]                   \n",
      "__________________________________________________________________________________________________\n",
      "dropout_24 (Dropout)            (None, 100, 20, 32)  0           batch_normalization_57[0][0]     \n",
      "__________________________________________________________________________________________________\n",
      "conv2d_75 (Conv2D)              (None, 100, 20, 32)  4128        dropout_24[0][0]                 \n",
      "__________________________________________________________________________________________________\n",
      "global_average_pooling2d_25 (Gl (None, 32)           0           conv2d_75[0][0]                  \n",
      "__________________________________________________________________________________________________\n",
      "dense_58 (Dense)                (None, 8)            256         global_average_pooling2d_25[0][0]\n",
      "__________________________________________________________________________________________________\n",
      "dense_59 (Dense)                (None, 32)           256         dense_58[0][0]                   \n",
      "__________________________________________________________________________________________________\n",
      "multiply_25 (Multiply)          (None, 100, 20, 32)  0           conv2d_75[0][0]                  \n",
      "                                                                 dense_59[0][0]                   \n",
      "__________________________________________________________________________________________________\n",
      "conv2d_76 (Conv2D)              (None, 100, 20, 32)  4128        multiply_25[0][0]                \n",
      "__________________________________________________________________________________________________\n",
      "add_66 (Add)                    (None, 100, 20, 32)  0           multiply_25[0][0]                \n",
      "                                                                 conv2d_76[0][0]                  \n",
      "__________________________________________________________________________________________________\n",
      "re_lu_50 (ReLU)                 (None, 100, 20, 32)  0           add_66[0][0]                     \n",
      "__________________________________________________________________________________________________\n",
      "batch_normalization_58 (BatchNo (None, 100, 20, 32)  128         re_lu_50[0][0]                   \n",
      "__________________________________________________________________________________________________\n",
      "conv2d_77 (Conv2D)              (None, 100, 20, 32)  4128        batch_normalization_58[0][0]     \n",
      "__________________________________________________________________________________________________\n",
      "add_67 (Add)                    (None, 100, 20, 32)  0           multiply_25[0][0]                \n",
      "                                                                 conv2d_77[0][0]                  \n",
      "__________________________________________________________________________________________________\n",
      "re_lu_51 (ReLU)                 (None, 100, 20, 32)  0           add_67[0][0]                     \n",
      "__________________________________________________________________________________________________\n",
      "batch_normalization_59 (BatchNo (None, 100, 20, 32)  128         re_lu_51[0][0]                   \n",
      "__________________________________________________________________________________________________\n",
      "dropout_25 (Dropout)            (None, 100, 20, 32)  0           batch_normalization_59[0][0]     \n",
      "__________________________________________________________________________________________________\n",
      "conv2d_78 (Conv2D)              (None, 100, 2, 32)   10272       dropout_25[0][0]                 \n",
      "__________________________________________________________________________________________________\n",
      "global_average_pooling2d_26 (Gl (None, 32)           0           conv2d_78[0][0]                  \n",
      "__________________________________________________________________________________________________\n",
      "dense_60 (Dense)                (None, 8)            256         global_average_pooling2d_26[0][0]\n",
      "__________________________________________________________________________________________________\n",
      "dense_61 (Dense)                (None, 32)           256         dense_60[0][0]                   \n",
      "__________________________________________________________________________________________________\n",
      "multiply_26 (Multiply)          (None, 100, 2, 32)   0           conv2d_78[0][0]                  \n",
      "                                                                 dense_61[0][0]                   \n",
      "__________________________________________________________________________________________________\n",
      "conv2d_79 (Conv2D)              (None, 100, 2, 32)   4128        multiply_26[0][0]                \n",
      "__________________________________________________________________________________________________\n",
      "add_68 (Add)                    (None, 100, 2, 32)   0           multiply_26[0][0]                \n",
      "                                                                 conv2d_79[0][0]                  \n",
      "__________________________________________________________________________________________________\n",
      "re_lu_52 (ReLU)                 (None, 100, 2, 32)   0           add_68[0][0]                     \n",
      "__________________________________________________________________________________________________\n",
      "batch_normalization_60 (BatchNo (None, 100, 2, 32)   128         re_lu_52[0][0]                   \n",
      "__________________________________________________________________________________________________\n",
      "conv2d_80 (Conv2D)              (None, 100, 2, 32)   4128        batch_normalization_60[0][0]     \n",
      "__________________________________________________________________________________________________\n",
      "add_69 (Add)                    (None, 100, 2, 32)   0           multiply_26[0][0]                \n",
      "                                                                 conv2d_80[0][0]                  \n",
      "__________________________________________________________________________________________________\n",
      "re_lu_53 (ReLU)                 (None, 100, 2, 32)   0           add_69[0][0]                     \n",
      "__________________________________________________________________________________________________\n",
      "batch_normalization_61 (BatchNo (None, 100, 2, 32)   128         re_lu_53[0][0]                   \n",
      "__________________________________________________________________________________________________\n",
      "dropout_26 (Dropout)            (None, 100, 2, 32)   0           batch_normalization_61[0][0]     \n",
      "__________________________________________________________________________________________________\n",
      "reshape_8 (Reshape)             (None, 100, 64)      0           dropout_26[0][0]                 \n",
      "__________________________________________________________________________________________________\n",
      "gru_24 (GRU)                    (None, 100, 32)      9408        reshape_8[0][0]                  \n",
      "__________________________________________________________________________________________________\n",
      "gru_25 (GRU)                    (None, 100, 32)      6336        gru_24[0][0]                     \n",
      "__________________________________________________________________________________________________\n",
      "add_70 (Add)                    (None, 100, 32)      0           gru_24[0][0]                     \n",
      "                                                                 gru_25[0][0]                     \n",
      "__________________________________________________________________________________________________\n",
      "lambda_8 (Lambda)               (None, 32)           0           add_70[0][0]                     \n",
      "__________________________________________________________________________________________________\n",
      "gru_26 (GRU)                    (None, 32)           6336        add_70[0][0]                     \n",
      "__________________________________________________________________________________________________\n",
      "add_71 (Add)                    (None, 32)           0           lambda_8[0][0]                   \n",
      "                                                                 gru_26[0][0]                     \n",
      "__________________________________________________________________________________________________\n",
      "batch_normalization_62 (BatchNo (None, 32)           128         add_71[0][0]                     \n",
      "__________________________________________________________________________________________________\n",
      "dense_62 (Dense)                (None, 3)            99          batch_normalization_62[0][0]     \n",
      "==================================================================================================\n",
      "Total params: 59,779\n",
      "Trainable params: 59,331\n",
      "Non-trainable params: 448\n",
      "__________________________________________________________________________________________________\n"
     ]
    }
   ],
   "source": [
    "def create_cnn_lstm_model(T, NF, number_of_lstm):\n",
    "    input_lmd = Input(shape=(T, NF, 1))\n",
    "   \n",
    "    #  spatial distribution learning\n",
    "    conv_first1 = Conv2D(32, (1, 2), activation='relu', kernel_initializer='he_normal', padding='same', kernel_constraint=max_norm(3), bias_constraint=max_norm(3))(input_lmd)\n",
    "    conv_first1 = SqueezeExcite2D(conv_first1, 32)\n",
    "    conv_first1 = resblock(conv_first1, (2, 1), 32)\n",
    "    conv_first1 = Dropout(0.2, noise_shape=(conv_first1.shape[0],1,1,conv_first1.shape[3]))(conv_first1)\n",
    "    \n",
    "    conv_first1 = Conv2D(32, (1, 4), activation='relu', kernel_initializer='he_normal', padding='same', kernel_constraint=max_norm(3), bias_constraint=max_norm(3))(conv_first1)\n",
    "    conv_first1 = SqueezeExcite2D(conv_first1, 32)\n",
    "    conv_first1 = resblock(conv_first1, (4, 1), 32)\n",
    "    conv_first1 = Dropout(0.2, noise_shape=(conv_first1.shape[0],1,1,conv_first1.shape[3]))(conv_first1)\n",
    "   \n",
    "    # strides=(1, 10),\n",
    "    conv_first1 = Conv2D(32, (1, 10), activation='relu', strides=(1, 10), kernel_initializer='he_normal', kernel_constraint=max_norm(3), bias_constraint=max_norm(3))(conv_first1)\n",
    "    conv_first1 = SqueezeExcite2D(conv_first1, 32)\n",
    "    conv_first1 = resblock(conv_first1, (4, 1), 32)\n",
    "    conv_first1 = Dropout(0.2, noise_shape=(conv_first1.shape[0],1,1,conv_first1.shape[3]))(conv_first1)\n",
    "    \n",
    "    conv_flat = Reshape((conv_first1.shape[1], conv_first1.shape[2]*conv_first1.shape[3]))(conv_first1)\n",
    "    \n",
    "    # build the last LSTM/ GRU layer\n",
    "#     conv_lstm = LSTM(64, return_sequences=True, kernel_constraint=max_norm(3), bias_constraint=max_norm(3))(conv_flat)\n",
    "    # Residual LSTM: https://gist.github.com/bzamecnik/8ed16e361a0a6e80e2a4a259222f101e\n",
    "    conv_lstm = make_residual_lstm_layers(conv_flat, 32, 3)\n",
    "\n",
    "#     conv_lstm = attention()(conv_lstm)\n",
    "    conv_lstm = BatchNormalization()(conv_lstm)\n",
    "#     conv_lstm = Dropout(0.2)(conv_lstm)\n",
    "\n",
    "    # build the output layer\n",
    "    out = Dense(3, activation='softmax')(conv_lstm)\n",
    "    model = Model(inputs=input_lmd, outputs=out)\n",
    "    adam = optimizers.Adam(lr=0.001, decay=0.001/40) \n",
    "\n",
    "#     model.load_weights('./weights/weights_no_images_28T.33-0.42.hdf5') # k=10, 32 all filters\n",
    "    model.load_weights('./weights/weights_no_images_30T.40-0.61.hdf5')    # k=20\n",
    "#     model.load_weights('./weights/weights_no_images_23T.31-0.48.hdf5')\t# k=50\n",
    "#     model.load_weights('./weights/weights_no_images_11T.42-0.42.hdf5')\t# k=100\n",
    "\n",
    "    model.compile(optimizer=adam, loss='categorical_crossentropy', metrics=[tf.keras.metrics.CategoricalAccuracy('accuracy'),\n",
    "                                                                            tf.keras.metrics.CategoricalCrossentropy('categorical_crossentropy'),\n",
    "#                                                                             f1_score,\n",
    "#                                                                             recall,\n",
    "#                                                                             precision,\n",
    "#                                                                             MulticlassTruePositives(),\n",
    "                                                                            tf.keras.metrics.Precision(name='precision'),\n",
    "                                                                            tf.keras.metrics.Recall(name='recall')])\n",
    "\n",
    "    return model\n",
    "\n",
    "# Call the above function with seed value\n",
    "set_global_determinism(seed=SEED)\n",
    "\n",
    "cnn_lstm_model = create_cnn_lstm_model(100, FEATURES, 64)\n",
    "cnn_lstm_model.summary()"
   ]
  },
  {
   "cell_type": "markdown",
   "metadata": {},
   "source": [
    "**Training the model**"
   ]
  },
  {
   "cell_type": "code",
   "execution_count": null,
   "metadata": {
    "scrolled": false
   },
   "outputs": [
    {
     "name": "stdout",
     "output_type": "stream",
     "text": [
      "Train on 254651 samples, validate on 139488 samples\n",
      "Epoch 1/100\n",
      "\n",
      "Epoch 00001: val_accuracy improved from -inf to 0.74117, saving model to ./weights/weights_no_images_30T.01-0.66.hdf5\n",
      "254651/254651 - 855s - loss: 0.8545 - accuracy: 0.6194 - categorical_crossentropy: 0.8545 - precision: 0.6930 - recall: 0.5021 - val_loss: 0.6561 - val_accuracy: 0.7412 - val_categorical_crossentropy: 0.6561 - val_precision: 0.7883 - val_recall: 0.6828\n",
      "Epoch 2/100\n",
      "\n",
      "Epoch 00002: val_accuracy improved from 0.74117 to 0.74908, saving model to ./weights/weights_no_images_30T.02-0.64.hdf5\n",
      "254651/254651 - 848s - loss: 0.7743 - accuracy: 0.6675 - categorical_crossentropy: 0.7743 - precision: 0.7241 - recall: 0.5832 - val_loss: 0.6365 - val_accuracy: 0.7491 - val_categorical_crossentropy: 0.6365 - val_precision: 0.7919 - val_recall: 0.6962\n",
      "Epoch 3/100\n",
      "\n",
      "Epoch 00003: val_accuracy improved from 0.74908 to 0.75217, saving model to ./weights/weights_no_images_30T.03-0.63.hdf5\n",
      "254651/254651 - 856s - loss: 0.7561 - accuracy: 0.6756 - categorical_crossentropy: 0.7561 - precision: 0.7297 - recall: 0.5966 - val_loss: 0.6345 - val_accuracy: 0.7522 - val_categorical_crossentropy: 0.6345 - val_precision: 0.7873 - val_recall: 0.7108\n",
      "Epoch 4/100\n",
      "\n",
      "Epoch 00004: val_accuracy improved from 0.75217 to 0.75445, saving model to ./weights/weights_no_images_30T.04-0.63.hdf5\n",
      "254651/254651 - 839s - loss: 0.7480 - accuracy: 0.6801 - categorical_crossentropy: 0.7480 - precision: 0.7330 - recall: 0.6022 - val_loss: 0.6262 - val_accuracy: 0.7545 - val_categorical_crossentropy: 0.6262 - val_precision: 0.7988 - val_recall: 0.7001\n",
      "Epoch 5/100\n",
      "\n",
      "Epoch 00005: val_accuracy improved from 0.75445 to 0.75749, saving model to ./weights/weights_no_images_30T.05-0.62.hdf5\n",
      "254651/254651 - 857s - loss: 0.7469 - accuracy: 0.6799 - categorical_crossentropy: 0.7469 - precision: 0.7328 - recall: 0.6012 - val_loss: 0.6205 - val_accuracy: 0.7575 - val_categorical_crossentropy: 0.6205 - val_precision: 0.7997 - val_recall: 0.7074\n",
      "Epoch 6/100\n",
      "\n",
      "Epoch 00006: val_accuracy improved from 0.75749 to 0.75814, saving model to ./weights/weights_no_images_30T.06-0.62.hdf5\n",
      "254651/254651 - 845s - loss: 0.7465 - accuracy: 0.6810 - categorical_crossentropy: 0.7465 - precision: 0.7339 - recall: 0.6033 - val_loss: 0.6192 - val_accuracy: 0.7581 - val_categorical_crossentropy: 0.6192 - val_precision: 0.8006 - val_recall: 0.7074\n",
      "Epoch 7/100\n",
      "\n",
      "Epoch 00007: val_accuracy did not improve from 0.75814\n",
      "254651/254651 - 852s - loss: 0.7399 - accuracy: 0.6846 - categorical_crossentropy: 0.7399 - precision: 0.7367 - recall: 0.6085 - val_loss: 0.6205 - val_accuracy: 0.7577 - val_categorical_crossentropy: 0.6205 - val_precision: 0.8056 - val_recall: 0.6995\n",
      "Epoch 8/100\n",
      "\n",
      "Epoch 00008: val_accuracy improved from 0.75814 to 0.76116, saving model to ./weights/weights_no_images_30T.08-0.61.hdf5\n",
      "254651/254651 - 848s - loss: 0.7347 - accuracy: 0.6858 - categorical_crossentropy: 0.7347 - precision: 0.7387 - recall: 0.6092 - val_loss: 0.6130 - val_accuracy: 0.7612 - val_categorical_crossentropy: 0.6130 - val_precision: 0.8035 - val_recall: 0.7099\n",
      "Epoch 9/100\n",
      "\n",
      "Epoch 00009: val_accuracy did not improve from 0.76116\n",
      "254651/254651 - 851s - loss: 0.7302 - accuracy: 0.6875 - categorical_crossentropy: 0.7302 - precision: 0.7397 - recall: 0.6131 - val_loss: 0.6755 - val_accuracy: 0.7290 - val_categorical_crossentropy: 0.6755 - val_precision: 0.7820 - val_recall: 0.6552\n",
      "Epoch 10/100\n",
      "\n",
      "Epoch 00010: val_accuracy improved from 0.76116 to 0.76218, saving model to ./weights/weights_no_images_30T.10-0.61.hdf5\n",
      "254651/254651 - 844s - loss: 0.7245 - accuracy: 0.6900 - categorical_crossentropy: 0.7245 - precision: 0.7420 - recall: 0.6164 - val_loss: 0.6102 - val_accuracy: 0.7622 - val_categorical_crossentropy: 0.6102 - val_precision: 0.8038 - val_recall: 0.7129\n",
      "Epoch 11/100\n",
      "\n",
      "Epoch 00011: val_accuracy did not improve from 0.76218\n",
      "254651/254651 - 850s - loss: 0.7226 - accuracy: 0.6911 - categorical_crossentropy: 0.7226 - precision: 0.7423 - recall: 0.6182 - val_loss: 0.6178 - val_accuracy: 0.7572 - val_categorical_crossentropy: 0.6178 - val_precision: 0.8050 - val_recall: 0.6974\n",
      "Epoch 12/100\n",
      "\n",
      "Epoch 00012: ReduceLROnPlateau reducing learning rate to 0.0005000000237487257.\n",
      "\n",
      "Epoch 00012: val_accuracy did not improve from 0.76218\n",
      "254651/254651 - 844s - loss: 0.7188 - accuracy: 0.6917 - categorical_crossentropy: 0.7188 - precision: 0.7434 - recall: 0.6193 - val_loss: 0.6148 - val_accuracy: 0.7598 - val_categorical_crossentropy: 0.6148 - val_precision: 0.8092 - val_recall: 0.6993\n",
      "Epoch 13/100\n",
      "\n",
      "Epoch 00013: val_accuracy did not improve from 0.76218\n",
      "254651/254651 - 850s - loss: 0.7133 - accuracy: 0.6957 - categorical_crossentropy: 0.7133 - precision: 0.7456 - recall: 0.6224 - val_loss: 0.6096 - val_accuracy: 0.7619 - val_categorical_crossentropy: 0.6096 - val_precision: 0.8063 - val_recall: 0.7081\n",
      "Epoch 14/100\n",
      "\n",
      "Epoch 00014: val_accuracy improved from 0.76218 to 0.76254, saving model to ./weights/weights_no_images_30T.14-0.61.hdf5\n",
      "254651/254651 - 841s - loss: 0.7105 - accuracy: 0.6973 - categorical_crossentropy: 0.7105 - precision: 0.7471 - recall: 0.6252 - val_loss: 0.6067 - val_accuracy: 0.7625 - val_categorical_crossentropy: 0.6067 - val_precision: 0.8062 - val_recall: 0.7098\n",
      "Epoch 15/100\n",
      "\n",
      "Epoch 00015: val_accuracy did not improve from 0.76254\n",
      "254651/254651 - 852s - loss: 0.7094 - accuracy: 0.6972 - categorical_crossentropy: 0.7094 - precision: 0.7472 - recall: 0.6252 - val_loss: 0.6069 - val_accuracy: 0.7625 - val_categorical_crossentropy: 0.6069 - val_precision: 0.8044 - val_recall: 0.7125\n",
      "Epoch 16/100\n",
      "\n",
      "Epoch 00016: ReduceLROnPlateau reducing learning rate to 0.0002500000118743628.\n",
      "\n",
      "Epoch 00016: val_accuracy did not improve from 0.76254\n",
      "254651/254651 - 838s - loss: 0.7084 - accuracy: 0.6974 - categorical_crossentropy: 0.7084 - precision: 0.7468 - recall: 0.6258 - val_loss: 0.6077 - val_accuracy: 0.7624 - val_categorical_crossentropy: 0.6077 - val_precision: 0.8055 - val_recall: 0.7109\n",
      "Epoch 17/100\n",
      "\n",
      "Epoch 00017: val_accuracy improved from 0.76254 to 0.76257, saving model to ./weights/weights_no_images_30T.17-0.61.hdf5\n",
      "254651/254651 - 846s - loss: 0.7055 - accuracy: 0.6988 - categorical_crossentropy: 0.7055 - precision: 0.7483 - recall: 0.6278 - val_loss: 0.6063 - val_accuracy: 0.7626 - val_categorical_crossentropy: 0.6063 - val_precision: 0.8056 - val_recall: 0.7117\n",
      "Epoch 18/100\n",
      "\n",
      "Epoch 00018: val_accuracy did not improve from 0.76257\n",
      "254651/254651 - 849s - loss: 0.7053 - accuracy: 0.6995 - categorical_crossentropy: 0.7053 - precision: 0.7480 - recall: 0.6281 - val_loss: 0.6073 - val_accuracy: 0.7624 - val_categorical_crossentropy: 0.6073 - val_precision: 0.8054 - val_recall: 0.7115\n",
      "Epoch 19/100\n",
      "\n",
      "Epoch 00019: ReduceLROnPlateau reducing learning rate to 0.0001250000059371814.\n",
      "\n",
      "Epoch 00019: val_accuracy did not improve from 0.76257\n",
      "254651/254651 - 843s - loss: 0.7035 - accuracy: 0.6989 - categorical_crossentropy: 0.7035 - precision: 0.7487 - recall: 0.6283 - val_loss: 0.6065 - val_accuracy: 0.7624 - val_categorical_crossentropy: 0.6065 - val_precision: 0.8047 - val_recall: 0.7129\n",
      "Epoch 20/100\n",
      "\n",
      "Epoch 00020: val_accuracy improved from 0.76257 to 0.76266, saving model to ./weights/weights_no_images_30T.20-0.61.hdf5\n",
      "254651/254651 - 838s - loss: 0.7038 - accuracy: 0.6997 - categorical_crossentropy: 0.7038 - precision: 0.7493 - recall: 0.6295 - val_loss: 0.6067 - val_accuracy: 0.7627 - val_categorical_crossentropy: 0.6067 - val_precision: 0.8057 - val_recall: 0.7115\n",
      "Epoch 21/100\n",
      "\n",
      "Epoch 00021: ReduceLROnPlateau reducing learning rate to 6.25000029685907e-05.\n",
      "\n",
      "Epoch 00021: val_accuracy improved from 0.76266 to 0.76300, saving model to ./weights/weights_no_images_30T.21-0.61.hdf5\n",
      "254651/254651 - 861s - loss: 0.7028 - accuracy: 0.6992 - categorical_crossentropy: 0.7028 - precision: 0.7496 - recall: 0.6300 - val_loss: 0.6065 - val_accuracy: 0.7630 - val_categorical_crossentropy: 0.6065 - val_precision: 0.8053 - val_recall: 0.7121\n",
      "Epoch 22/100\n",
      "\n",
      "Epoch 00022: val_accuracy improved from 0.76300 to 0.76304, saving model to ./weights/weights_no_images_30T.22-0.61.hdf5\n",
      "254651/254651 - 835s - loss: 0.7021 - accuracy: 0.7000 - categorical_crossentropy: 0.7021 - precision: 0.7494 - recall: 0.6298 - val_loss: 0.6063 - val_accuracy: 0.7630 - val_categorical_crossentropy: 0.6063 - val_precision: 0.8051 - val_recall: 0.7126\n"
     ]
    },
    {
     "name": "stdout",
     "output_type": "stream",
     "text": [
      "Epoch 23/100\n",
      "\n",
      "Epoch 00023: ReduceLROnPlateau reducing learning rate to 5e-05.\n",
      "\n",
      "Epoch 00023: val_accuracy did not improve from 0.76304\n",
      "254651/254651 - 845s - loss: 0.7022 - accuracy: 0.6999 - categorical_crossentropy: 0.7022 - precision: 0.7496 - recall: 0.6297 - val_loss: 0.6063 - val_accuracy: 0.7629 - val_categorical_crossentropy: 0.6063 - val_precision: 0.8048 - val_recall: 0.7133\n",
      "Epoch 24/100\n",
      "\n",
      "Epoch 00024: val_accuracy did not improve from 0.76304\n",
      "254651/254651 - 842s - loss: 0.7019 - accuracy: 0.7005 - categorical_crossentropy: 0.7019 - precision: 0.7497 - recall: 0.6295 - val_loss: 0.6071 - val_accuracy: 0.7626 - val_categorical_crossentropy: 0.6071 - val_precision: 0.8058 - val_recall: 0.7117\n",
      "Epoch 25/100\n",
      "\n",
      "Epoch 00025: val_accuracy did not improve from 0.76304\n",
      "254651/254651 - 872s - loss: 0.7018 - accuracy: 0.7005 - categorical_crossentropy: 0.7018 - precision: 0.7497 - recall: 0.6310 - val_loss: 0.6067 - val_accuracy: 0.7630 - val_categorical_crossentropy: 0.6067 - val_precision: 0.8050 - val_recall: 0.7126\n",
      "Epoch 26/100\n",
      "\n",
      "Epoch 00026: val_accuracy improved from 0.76304 to 0.76306, saving model to ./weights/weights_no_images_30T.26-0.61.hdf5\n",
      "254651/254651 - 844s - loss: 0.7015 - accuracy: 0.7003 - categorical_crossentropy: 0.7015 - precision: 0.7502 - recall: 0.6304 - val_loss: 0.6065 - val_accuracy: 0.7631 - val_categorical_crossentropy: 0.6065 - val_precision: 0.8054 - val_recall: 0.7125\n",
      "Epoch 27/100\n",
      "\n",
      "Epoch 00027: val_accuracy improved from 0.76306 to 0.76307, saving model to ./weights/weights_no_images_30T.27-0.61.hdf5\n",
      "254651/254651 - 874s - loss: 0.7022 - accuracy: 0.6998 - categorical_crossentropy: 0.7022 - precision: 0.7501 - recall: 0.6301 - val_loss: 0.6063 - val_accuracy: 0.7631 - val_categorical_crossentropy: 0.6063 - val_precision: 0.8050 - val_recall: 0.7129\n",
      "Epoch 28/100\n",
      "\n",
      "Epoch 00028: val_accuracy did not improve from 0.76307\n",
      "254651/254651 - 839s - loss: 0.7017 - accuracy: 0.7002 - categorical_crossentropy: 0.7017 - precision: 0.7498 - recall: 0.6303 - val_loss: 0.6070 - val_accuracy: 0.7629 - val_categorical_crossentropy: 0.6070 - val_precision: 0.8052 - val_recall: 0.7119\n",
      "Epoch 29/100\n",
      "\n",
      "Epoch 00029: val_accuracy did not improve from 0.76307\n",
      "254651/254651 - 851s - loss: 0.7018 - accuracy: 0.6995 - categorical_crossentropy: 0.7018 - precision: 0.7490 - recall: 0.6295 - val_loss: 0.6068 - val_accuracy: 0.7628 - val_categorical_crossentropy: 0.6068 - val_precision: 0.8056 - val_recall: 0.7116\n",
      "Epoch 30/100\n",
      "\n",
      "Epoch 00030: val_accuracy did not improve from 0.76307\n",
      "254651/254651 - 845s - loss: 0.7014 - accuracy: 0.7000 - categorical_crossentropy: 0.7014 - precision: 0.7503 - recall: 0.6296 - val_loss: 0.6071 - val_accuracy: 0.7628 - val_categorical_crossentropy: 0.6071 - val_precision: 0.8062 - val_recall: 0.7110\n",
      "Epoch 31/100\n",
      "\n",
      "Epoch 00031: val_accuracy improved from 0.76307 to 0.76333, saving model to ./weights/weights_no_images_30T.31-0.61.hdf5\n",
      "254651/254651 - 853s - loss: 0.7010 - accuracy: 0.7010 - categorical_crossentropy: 0.7010 - precision: 0.7506 - recall: 0.6308 - val_loss: 0.6063 - val_accuracy: 0.7633 - val_categorical_crossentropy: 0.6063 - val_precision: 0.8050 - val_recall: 0.7134\n",
      "Epoch 32/100\n",
      "\n",
      "Epoch 00032: val_accuracy did not improve from 0.76333\n",
      "254651/254651 - 849s - loss: 0.7021 - accuracy: 0.7002 - categorical_crossentropy: 0.7021 - precision: 0.7494 - recall: 0.6304 - val_loss: 0.6069 - val_accuracy: 0.7627 - val_categorical_crossentropy: 0.6069 - val_precision: 0.8055 - val_recall: 0.7116\n",
      "Epoch 33/100\n",
      "\n",
      "Epoch 00033: val_accuracy did not improve from 0.76333\n",
      "254651/254651 - 853s - loss: 0.7018 - accuracy: 0.7002 - categorical_crossentropy: 0.7018 - precision: 0.7494 - recall: 0.6307 - val_loss: 0.6063 - val_accuracy: 0.7632 - val_categorical_crossentropy: 0.6063 - val_precision: 0.8058 - val_recall: 0.7121\n",
      "Epoch 34/100\n",
      "\n",
      "Epoch 00034: val_accuracy did not improve from 0.76333\n",
      "254651/254651 - 842s - loss: 0.7010 - accuracy: 0.7004 - categorical_crossentropy: 0.7010 - precision: 0.7504 - recall: 0.6299 - val_loss: 0.6070 - val_accuracy: 0.7627 - val_categorical_crossentropy: 0.6070 - val_precision: 0.8056 - val_recall: 0.7116\n",
      "Epoch 35/100\n",
      "\n",
      "Epoch 00035: val_accuracy did not improve from 0.76333\n",
      "254651/254651 - 857s - loss: 0.7012 - accuracy: 0.7007 - categorical_crossentropy: 0.7012 - precision: 0.7497 - recall: 0.6307 - val_loss: 0.6068 - val_accuracy: 0.7627 - val_categorical_crossentropy: 0.6068 - val_precision: 0.8053 - val_recall: 0.7122\n",
      "Epoch 36/100\n",
      "\n",
      "Epoch 00036: val_accuracy did not improve from 0.76333\n",
      "254651/254651 - 839s - loss: 0.7018 - accuracy: 0.7008 - categorical_crossentropy: 0.7018 - precision: 0.7494 - recall: 0.6307 - val_loss: 0.6066 - val_accuracy: 0.7630 - val_categorical_crossentropy: 0.6066 - val_precision: 0.8053 - val_recall: 0.7121\n",
      "Epoch 37/100\n",
      "\n",
      "Epoch 00037: val_accuracy did not improve from 0.76333\n",
      "254651/254651 - 858s - loss: 0.7009 - accuracy: 0.7011 - categorical_crossentropy: 0.7009 - precision: 0.7505 - recall: 0.6310 - val_loss: 0.6071 - val_accuracy: 0.7625 - val_categorical_crossentropy: 0.6071 - val_precision: 0.8062 - val_recall: 0.7107\n",
      "Epoch 38/100\n",
      "\n",
      "Epoch 00038: val_accuracy did not improve from 0.76333\n",
      "254651/254651 - 848s - loss: 0.7012 - accuracy: 0.7010 - categorical_crossentropy: 0.7012 - precision: 0.7499 - recall: 0.6307 - val_loss: 0.6068 - val_accuracy: 0.7630 - val_categorical_crossentropy: 0.6068 - val_precision: 0.8060 - val_recall: 0.7112\n",
      "Epoch 39/100\n",
      "\n",
      "Epoch 00039: val_accuracy did not improve from 0.76333\n",
      "254651/254651 - 852s - loss: 0.7009 - accuracy: 0.7015 - categorical_crossentropy: 0.7009 - precision: 0.7506 - recall: 0.6311 - val_loss: 0.6067 - val_accuracy: 0.7631 - val_categorical_crossentropy: 0.6067 - val_precision: 0.8058 - val_recall: 0.7117\n",
      "Epoch 40/100\n",
      "\n",
      "Epoch 00040: val_accuracy improved from 0.76333 to 0.76359, saving model to ./weights/weights_no_images_30T.40-0.61.hdf5\n",
      "254651/254651 - 857s - loss: 0.7009 - accuracy: 0.7011 - categorical_crossentropy: 0.7009 - precision: 0.7505 - recall: 0.6314 - val_loss: 0.6058 - val_accuracy: 0.7636 - val_categorical_crossentropy: 0.6058 - val_precision: 0.8058 - val_recall: 0.7124\n",
      "Epoch 41/100\n",
      "\n",
      "Epoch 00041: val_accuracy did not improve from 0.76359\n",
      "254651/254651 - 866s - loss: 0.7016 - accuracy: 0.7001 - categorical_crossentropy: 0.7016 - precision: 0.7497 - recall: 0.6310 - val_loss: 0.6065 - val_accuracy: 0.7632 - val_categorical_crossentropy: 0.6065 - val_precision: 0.8064 - val_recall: 0.7113\n",
      "Epoch 42/100\n"
     ]
    }
   ],
   "source": [
    "checkpoint_filepath = './weights/weights_no_images_30T.{epoch:02d}-{val_loss:.2f}.hdf5'\n",
    "model_checkpoint_callback = tf.keras.callbacks.ModelCheckpoint(filepath=checkpoint_filepath,\n",
    "                                                            save_weights_only=True,\n",
    "                                                            monitor='val_accuracy',\n",
    "                                                            mode='max', verbose=1,\n",
    "                                                            save_best_only=True)\n",
    "\n",
    "# class reduce_lr(tf.keras.callbacks.Callback):\n",
    "#     def on_epoch_begin(self, epoch, logs=None):\n",
    "#         if epoch > 3:\n",
    "#             lr = self.lr / 1.1\n",
    "#             K.set_value(self.model.optimizer.lr, lr)\n",
    "\n",
    "reduce_lr = tf.keras.callbacks.ReduceLROnPlateau(monitor='val_categorical_crossentropy', factor=0.5, patience=2, min_lr=0.00005, verbose=1)\n",
    "\n",
    "log_dir=\"tensorboard/\" + datetime.datetime.now().strftime(\"%Y%m%d-%H%M%S\")\n",
    "\n",
    "performance_viz_cbk = PerformanceVisualizationCallback(\n",
    "                                       model=cnn_lstm_model,\n",
    "                                       validation_data=(testX_CNN[25000:25500], testY_CNN[25000:25500]),\n",
    "                                       image_dir=log_dir + '/perorfmance_charts')\n",
    "\n",
    "csv_logger = tf.keras.callbacks.CSVLogger('training results/training.log')\n",
    "\n",
    "\n",
    "tensorboard_cb= tf.keras.callbacks.TensorBoard(log_dir=log_dir,\n",
    "                                               histogram_freq=1, # freq to compute activation and weight histograms\n",
    "                                               write_images=False, # write model weights to visualize as image\n",
    "                                               profile_batch = 2, # Profile the batch(es) to sample compute characteristics\n",
    "                                               update_freq = 'epoch', # 'batch' or 'epoch' or integer (after each 100 batches)\n",
    "#                                                embeddings_freq = 500, # freq at which embedding layers is visualized\n",
    "                                              )\n",
    "cnn_lstm_model._get_distribution_strategy = lambda: None\n",
    "\n",
    "history = cnn_lstm_model.fit(trainX_CNN, trainY_CNN,\n",
    "                            verbose = 2,\n",
    "                            initial_epoch = 0,\n",
    "                            epochs = 100,\n",
    "                            shuffle=True,\n",
    "                            batch_size=batch_size,\n",
    "#                             class_weight=classWeight,\n",
    "#                             workers = 4,\n",
    "#                             use_multiprocessing = False,\n",
    "#                             max_queue_size = 40,\n",
    "                            validation_data = (testX_CNN, testY_CNN),\n",
    "#                             callbacks=[reduce_lr, model_checkpoint_callback, csv_logger, performance_viz_cbk, tensorboard_cb])\n",
    "                            callbacks=[reduce_lr, csv_logger, model_checkpoint_callback])"
   ]
  },
  {
   "cell_type": "code",
   "execution_count": 150,
   "metadata": {},
   "outputs": [],
   "source": [
    "# history = cnn_lstm_model.fit(x = train_generator,\n",
    "#                             verbose = 2,\n",
    "#                             initial_epoch = 0,\n",
    "#                             epochs = 100,\n",
    "#                             steps_per_epoch = len(train_generator),\n",
    "# #                             class_weight=classWeight,\n",
    "# #                             workers = 4,\n",
    "# #                             use_multiprocessing = False,\n",
    "# #                             max_queue_size = 40,\n",
    "#                             validation_data = validation_generator,\n",
    "#                             validation_steps = len(validation_generator),\n",
    "# #                             callbacks=[reduce_lr, model_checkpoint_callback, csv_logger, performance_viz_cbk, tensorboard_cb])\n",
    "#                             callbacks=[reduce_lr, csv_logger])"
   ]
  },
  {
   "cell_type": "code",
   "execution_count": 106,
   "metadata": {
    "scrolled": false
   },
   "outputs": [],
   "source": [
    "# history = cnn_lstm_model.fit(trainX_CNN, trainY_CNN,\n",
    "#                             verbose = 2,\n",
    "#                             initial_epoch = 25,\n",
    "#                             epochs = 50,\n",
    "#                             shuffle=True,\n",
    "#                             batch_size=batch_size,\n",
    "# #                             class_weight=classWeight,\n",
    "# #                             workers = 4,\n",
    "# #                             use_multiprocessing = False,\n",
    "# #                             max_queue_size = 40,\n",
    "#                             validation_data = (testX_CNN, testY_CNN),\n",
    "#                             callbacks=[reduce_lr, model_checkpoint_callback, csv_logger, performance_viz_cbk, tensorboard_cb])"
   ]
  },
  {
   "cell_type": "markdown",
   "metadata": {},
   "source": [
    "**Predict and evaluate the model**"
   ]
  },
  {
   "cell_type": "code",
   "execution_count": 153,
   "metadata": {},
   "outputs": [],
   "source": [
    "from sklearn.metrics import confusion_matrix, ConfusionMatrixDisplay, plot_confusion_matrix\n",
    "from sklearn.metrics import plot_roc_curve, roc_curve, auc, RocCurveDisplay\n",
    "from sklearn.metrics import f1_score, precision_score, recall_score\n",
    "from sklearn.metrics import classification_report\n",
    "from sklearn.preprocessing import label_binarize\n",
    "from itertools import cycle\n",
    "\n",
    "target_names = ['Up','Stationary', 'Down']\n",
    "labels = [0, 1, 2]"
   ]
  },
  {
   "cell_type": "markdown",
   "metadata": {},
   "source": [
    "**Confusion matrix**"
   ]
  },
  {
   "cell_type": "code",
   "execution_count": 154,
   "metadata": {},
   "outputs": [],
   "source": [
    "# # prepare time series generators\n",
    "# train_gen = TimeseriesGenerator(trainX_CNN, trainY_CNN, length=window_size, batch_size=batch_size)\n",
    "# validation_gen = TimeseriesGenerator(testX_CNN, testY_CNN, length=window_size, batch_size=batch_size)\n",
    "# test_gen = TimeseriesGenerator(testX_CNN[50000:55000], testY_CNN[50000:55000], length=window_size, batch_size=1)"
   ]
  },
  {
   "cell_type": "code",
   "execution_count": 155,
   "metadata": {},
   "outputs": [],
   "source": [
    "y_pred = cnn_lstm_model.predict(testX_CNN, batch_size=batch_size)\n",
    "y_pred_class = np.argmax(y_pred, axis=1)"
   ]
  },
  {
   "cell_type": "code",
   "execution_count": 156,
   "metadata": {},
   "outputs": [],
   "source": [
    "y_true = np.argmax(testY_CNN, axis=1)"
   ]
  },
  {
   "cell_type": "code",
   "execution_count": 157,
   "metadata": {},
   "outputs": [],
   "source": [
    "cm = confusion_matrix(y_true, y_pred_class, normalize='pred')  # normalize='pred', 'true', 'all'"
   ]
  },
  {
   "cell_type": "code",
   "execution_count": 158,
   "metadata": {},
   "outputs": [],
   "source": [
    "# Font increase for matplotlib -> confusion matrix display\n",
    "SMALL_SIZE = 8\n",
    "MEDIUM_SIZE = 15\n",
    "BIGGER_SIZE = 20\n",
    "plt.rc('font', size=BIGGER_SIZE)          # controls default text sizes\n",
    "plt.rc('axes', titlesize=MEDIUM_SIZE)     # fontsize of the axes title\n",
    "plt.rc('axes', labelsize=MEDIUM_SIZE)    # fontsize of the x and y labels\n",
    "plt.rc('xtick', labelsize=MEDIUM_SIZE)    # fontsize of the tick labels\n",
    "plt.rc('ytick', labelsize=MEDIUM_SIZE)    # fontsize of the tick labels\n",
    "plt.rc('legend', fontsize=SMALL_SIZE)    # legend fontsize\n",
    "plt.rc('figure', titlesize=BIGGER_SIZE)  # fontsize of the figure title"
   ]
  },
  {
   "cell_type": "code",
   "execution_count": 159,
   "metadata": {},
   "outputs": [
    {
     "data": {
      "text/plain": [
       "<sklearn.metrics._plot.confusion_matrix.ConfusionMatrixDisplay at 0x7febaf23d208>"
      ]
     },
     "execution_count": 159,
     "metadata": {},
     "output_type": "execute_result"
    },
    {
     "data": {
      "image/png": "[encoded data removed]",
      "text/plain": [
       "<Figure size 648x432 with 2 Axes>"
      ]
     },
     "metadata": {
      "needs_background": "light"
     },
     "output_type": "display_data"
    }
   ],
   "source": [
    "cmd = ConfusionMatrixDisplay(cm, display_labels=['Up','Stationary', 'Down'])\n",
    "# plot and save confusion matrix\n",
    "fig, ax = plt.subplots(figsize=(9,6))\n",
    "cmd.plot(ax=ax, cmap=plt.cm.Blues, values_format='.4g')"
   ]
  },
  {
   "cell_type": "markdown",
   "metadata": {},
   "source": [
    "**ROC AUC curve per class**\n"
   ]
  },
  {
   "cell_type": "code",
   "execution_count": 160,
   "metadata": {},
   "outputs": [],
   "source": [
    "SMALL_SIZE = 9\n",
    "MEDIUM_SIZE = 12\n",
    "BIGGER_SIZE = 20\n",
    "plt.rc('font', size=BIGGER_SIZE)          # controls default text sizes\n",
    "plt.rc('axes', titlesize=MEDIUM_SIZE)     # fontsize of the axes title\n",
    "plt.rc('axes', labelsize=MEDIUM_SIZE)    # fontsize of the x and y labels\n",
    "plt.rc('xtick', labelsize=MEDIUM_SIZE)    # fontsize of the tick labels\n",
    "plt.rc('ytick', labelsize=MEDIUM_SIZE)    # fontsize of the tick labels\n",
    "plt.rc('legend', fontsize=SMALL_SIZE)    # legend fontsize\n",
    "plt.rc('figure', titlesize=BIGGER_SIZE)  # fontsize of the figure title"
   ]
  },
  {
   "cell_type": "code",
   "execution_count": 161,
   "metadata": {},
   "outputs": [
    {
     "data": {
      "image/png": "[encoded data removed]",
      "text/plain": [
       "<Figure size 432x288 with 1 Axes>"
      ]
     },
     "metadata": {
      "needs_background": "light"
     },
     "output_type": "display_data"
    }
   ],
   "source": [
    "fpr = dict()\n",
    "tpr = dict()\n",
    "roc_auc = dict()\n",
    "n_classes = 3\n",
    "\n",
    "for i in range(n_classes):\n",
    "    fpr[i], tpr[i], _ = roc_curve(testY_CNN[:, i], y_pred[:, i])\n",
    "    roc_auc[i] = auc(fpr[i], tpr[i])\n",
    "colors = cycle(['blue', 'red', 'green'])\n",
    "for i, color in zip(range(n_classes), colors):\n",
    "    plt.plot(fpr[i], tpr[i], color=color, lw=1.5,\n",
    "             label='ROC curve of class {0} (area = {1:0.2f})'\n",
    "             ''.format(target_names[i], roc_auc[i]))\n",
    "plt.plot([0, 1], [0, 1], 'k--', lw=1.5)\n",
    "plt.xlim([-0.05, 1.0])\n",
    "plt.ylim([0.0, 1.05])\n",
    "plt.xlabel('False Positive Rate')\n",
    "plt.ylabel('True Positive Rate')\n",
    "plt.title('Receiver operating characteristic for multi-class data')\n",
    "plt.legend(loc=\"lower right\")\n",
    "plt.show()"
   ]
  },
  {
   "cell_type": "markdown",
   "metadata": {},
   "source": [
    "**Evaluation report**"
   ]
  },
  {
   "cell_type": "code",
   "execution_count": 162,
   "metadata": {},
   "outputs": [
    {
     "name": "stdout",
     "output_type": "stream",
     "text": [
      "              precision    recall  f1-score   support\n",
      "\n",
      "          Up     0.7234    0.4955    0.5882     27425\n",
      "  Stationary     0.7802    0.9267    0.8472     86588\n",
      "        Down     0.7102    0.4979    0.5854     25475\n",
      "\n",
      "    accuracy                         0.7636    139488\n",
      "   macro avg     0.7379    0.6400    0.6736    139488\n",
      "weighted avg     0.7563    0.7636    0.7484    139488\n",
      "\n"
     ]
    }
   ],
   "source": [
    "report = classification_report(y_true, y_pred_class, labels=labels, target_names=target_names, digits=4)\n",
    "# df = pd.DataFrame(report).transpose()\n",
    "# df\n",
    "print(report)"
   ]
  },
  {
   "cell_type": "markdown",
   "metadata": {},
   "source": [
    "**Plot the model**"
   ]
  },
  {
   "cell_type": "code",
   "execution_count": null,
   "metadata": {},
   "outputs": [],
   "source": [
    "# https://machinelearningmastery.com/visualize-deep-learning-neural-network-model-keras/\n",
    "\n",
    "# !pip install pydot\n",
    "from keras.utils.vis_utils import plot_model\n",
    "\n",
    "plot_model(cnn_lob_model, to_file='model_plot.png', show_shapes=True, show_layer_names=True)"
   ]
  },
  {
   "cell_type": "markdown",
   "metadata": {},
   "source": [
    "**Save, Load the full model**"
   ]
  },
  {
   "cell_type": "code",
   "execution_count": null,
   "metadata": {},
   "outputs": [],
   "source": [
    "cnn_lob_model.save(\"./weights/temp_model.h5\")"
   ]
  },
  {
   "cell_type": "code",
   "execution_count": null,
   "metadata": {},
   "outputs": [],
   "source": [
    "# model = keras.models.load_model('./weights/temp_model.h5')\n",
    "# model.summary()"
   ]
  },
  {
   "cell_type": "markdown",
   "metadata": {},
   "source": [
    "**Print variables in a python object**"
   ]
  },
  {
   "cell_type": "code",
   "execution_count": null,
   "metadata": {},
   "outputs": [],
   "source": [
    "validation_generator.data.shape"
   ]
  },
  {
   "cell_type": "code",
   "execution_count": null,
   "metadata": {
    "scrolled": false
   },
   "outputs": [],
   "source": [
    "from pprint import pprint\n",
    "pprint(vars(train_generator))"
   ]
  },
  {
   "cell_type": "markdown",
   "metadata": {},
   "source": [
    "**Printing memory usage for variables (top10)**"
   ]
  },
  {
   "cell_type": "code",
   "execution_count": null,
   "metadata": {},
   "outputs": [],
   "source": [
    "import sys\n",
    "def sizeof_fmt(num, suffix='B'):\n",
    "    ''' by Fred Cirera,  https://stackoverflow.com/a/1094933/1870254, modified'''\n",
    "    for unit in ['','Ki','Mi','Gi','Ti','Pi','Ei','Zi']:\n",
    "        if abs(num) < 1024.0:\n",
    "            return \"%3.1f %s%s\" % (num, unit, suffix)\n",
    "        num /= 1024.0\n",
    "    return \"%.1f %s%s\" % (num, 'Yi', suffix)\n",
    "\n",
    "for name, size in sorted(((name, sys.getsizeof(value)) for name, value in locals().items()),\n",
    "                         key= lambda x: -x[1])[:10]:\n",
    "    print(\"{:>30}: {:>8}\".format(name, sizeof_fmt(size)))"
   ]
  }
 ],
 "metadata": {
  "kernelspec": {
   "display_name": "conda_tensorflow2_p36",
   "language": "python",
   "name": "conda_tensorflow2_p36"
  },
  "language_info": {
   "codemirror_mode": {
    "name": "ipython",
    "version": 3
   },
   "file_extension": ".py",
   "mimetype": "text/x-python",
   "name": "python",
   "nbconvert_exporter": "python",
   "pygments_lexer": "ipython3",
   "version": "3.6.13"
  }
 },
 "nbformat": 4,
 "nbformat_minor": 4
}
